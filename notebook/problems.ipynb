{
    "cells": [
        {
            "cell_type": "markdown",
            "id": "ac622319",
            "metadata": {},
            "source": [
                "# Descriptive statistics problems"
            ]
        },
        {
            "cell_type": "markdown",
            "id": "aa8993e4",
            "metadata": {},
            "source": [
                "### Exercise 1"
            ]
        },
        {
            "cell_type": "markdown",
            "id": "5e0ab0d5",
            "metadata": {},
            "source": [
                "We will use Numpy to obtain information to describe statistically.\n",
                "\n",
                "- Generate an array of 100 elements following a normal distribution.\n",
                "- Generate an array of 100 elements following a chi-square distribution with 3 degrees of freedom.\n",
                "- Calculate the main metrics and statistical measures that best describe the two vectors."
            ]
        },
        {
            "cell_type": "code",
            "execution_count": 24,
            "id": "c7d87485",
            "metadata": {},
            "outputs": [],
            "source": [
                "\n",
                "import numpy as np\n",
                "import matplotlib.pyplot as plt\n",
                "import statistics as stats\n",
                "from scipy.stats import skew, kurtosis\n",
                "import math as mt\n"
            ]
        },
        {
            "cell_type": "code",
            "execution_count": 25,
            "id": "34720ab6",
            "metadata": {},
            "outputs": [
                {
                    "name": "stdout",
                    "output_type": "stream",
                    "text": [
                        " Array con distribución normal: [-0.48799731  0.39247744 -0.06735077  0.87404468 -1.07733198  0.36782067\n",
                        " -1.1482322   0.87241362  1.61841294  0.92140023 -0.62986481 -0.63122359\n",
                        " -0.19123484 -0.99957348  0.33082337 -1.39267515 -1.65424607  0.05270965\n",
                        " -1.3821796  -0.50842808 -0.22713108  0.03871545  0.29508446 -1.17425025\n",
                        "  0.13372841 -0.2361888  -2.20304687 -0.33903061  0.89950573 -1.09279098\n",
                        "  0.8008157   0.08579726  0.24186342 -0.52556001 -0.67086837  0.48648869\n",
                        " -1.63909229 -0.17088659  0.44599461  0.37697486  0.22047884  1.52961091\n",
                        "  1.11005076  0.7932      0.05418674  1.01782652  0.40783176  0.42032051\n",
                        "  0.7546575   0.67126957 -0.32745993  0.83480322 -0.82558232 -0.58526678\n",
                        " -0.00988735  0.11916448  1.1256828  -0.09287522  0.2224317   0.41116335\n",
                        " -0.72939518 -0.21708925  0.53764423  2.29078542 -1.11701251 -0.80110658\n",
                        "  0.08130195  1.0219928  -1.09051773 -0.39957683  0.17377227 -3.43707194\n",
                        "  0.41390306 -1.00184731 -0.02776936  0.24944624 -0.54043714  1.04738657\n",
                        " -0.12836387 -2.3410258  -1.00709376 -0.81044353  0.39967345 -1.86002708\n",
                        " -0.68696692 -0.72282013  0.09447754 -0.82085637  2.11662473  0.71470137\n",
                        " -1.86038549 -0.04759584 -0.57992031  1.03846259 -1.25562778 -1.2288471\n",
                        "  0.32282107 -0.08884128  1.5699161   1.31591191]\n",
                        " Array con distribución chi-cuadrado: [ 2.14785444  9.34702636  2.16322546  0.44471444  0.69509167  0.21888414\n",
                        "  4.85475298  2.11781539  1.36788501  2.68900793  3.18374573  2.56611083\n",
                        "  0.51905001  1.14577954  2.73581386  2.8783986   2.50293026  5.00388175\n",
                        "  8.90649247  2.16404693  1.91027823  1.33657114  1.41313211  1.31388777\n",
                        "  1.12948552  3.88246913  2.04778396 10.58302527  3.37363056  0.44441945\n",
                        "  9.25019251  0.82760558  1.20749851  2.72408762 10.04611371  3.0140547\n",
                        "  0.79508423  4.31125598  2.2695365   0.41184036  0.94082185  0.95345409\n",
                        "  1.63417638  1.95277307  1.13890298  1.69344323  1.33700412  2.33330047\n",
                        "  2.06963673  1.12829831  1.29677772  0.87895167  4.07115739  0.83290085\n",
                        "  2.17776475  4.63102024  4.50061027  1.87162027 11.26047686  2.60402596\n",
                        "  5.08005357  3.8962462   4.63158188  1.08233421  2.52989164  3.83696206\n",
                        "  3.41997087  3.91082707  1.32887359  0.14778677  3.65458103  4.63529158\n",
                        "  2.63733818  2.43928067  0.35025763  3.47262144  3.50026728  3.53864986\n",
                        "  3.41913505  2.24791936  2.80917605  4.04768296  5.86442276  2.42986831\n",
                        "  5.05587761  1.89707771  2.67055115  1.73101362  4.08886859  8.13693639\n",
                        "  0.77455325  3.06155541  5.21643119  1.15573056 10.15095479 11.34946913\n",
                        "  4.28524554  0.24384273  1.6979117   4.82559638]\n"
                    ]
                }
            ],
            "source": [
                "\n",
                "\n",
                "#Array con distribución normal\n",
                "\n",
                "arr_normal = np.random.normal(0, 1, 100)\n",
                "\n",
                "print(f\" Array con distribución normal: {arr_normal}\")\n",
                "\n",
                "\n",
                "# Array con distribución chi-cuadrado con 3 grados de libertad\n",
                "arr_chi2 = np.random.chisquare(3, 100)\n",
                "\n",
                "print(f\" Array con distribución chi-cuadrado: {arr_chi2}\")\n"
            ]
        },
        {
            "cell_type": "code",
            "execution_count": 26,
            "id": "f5b931c9",
            "metadata": {},
            "outputs": [
                {
                    "name": "stdout",
                    "output_type": "stream",
                    "text": [
                        "Media distribución normal: -0.10774323226579606\n",
                        "Mediana distribución normal: -0.018828358378558348\n",
                        "Moda distribución normal: -0.4879973139901279\n",
                        "Media distribución chi_cuadrado: 3.1050421360049505\n",
                        "Mediana distribución chi_cuadrado: 2.4711054612131607\n",
                        "Moda distribución chi_cuadrado: 2.147854443165208\n"
                    ]
                }
            ],
            "source": [
                "# Medidas de centralización: Media, Mediana y Moda\n",
                "\n",
                "normal_mean =  stats.mean(arr_normal)\n",
                "normal_median = stats.median(arr_normal)\n",
                "normal_mode = stats.mode(arr_normal)\n",
                "\n",
                "print(F\"Media distribución normal: {normal_mean}\")\n",
                "print(F\"Mediana distribución normal: {normal_median}\")\n",
                "print(F\"Moda distribución normal: {normal_mode}\")\n",
                "\n",
                "chi_mean = stats.mean(arr_chi2)\n",
                "chi_median = stats.median(arr_chi2)\n",
                "chi_mode = stats.mode(arr_chi2)\n",
                "\n",
                "\n",
                "print(F\"Media distribución chi_cuadrado: {chi_mean}\")\n",
                "print(F\"Mediana distribución chi_cuadrado: {chi_median}\")\n",
                "print(F\"Moda distribución chi_cuadrado: {chi_mode}\")"
            ]
        },
        {
            "cell_type": "code",
            "execution_count": 27,
            "id": "9704d6c2",
            "metadata": {},
            "outputs": [
                {
                    "name": "stdout",
                    "output_type": "stream",
                    "text": [
                        "Rango distribución normal: 5.727857366491092\n",
                        "Varianza distribución normal: 0.9446070071895976\n",
                        "Desviación estándar distribución normal: 0.9719089500511854\n",
                        "-------------------------\n",
                        "Rango distribución chi_cuadrado: 11.201682361049242\n",
                        "Varianza distribución chi_cuadrado: 6.544967257450765\n",
                        "Desviación estándar distribución chi_cuadrado: 2.558313361855964\n"
                    ]
                }
            ],
            "source": [
                "# Medidas de dispersion: rango, varianza y desviación estándar\n",
                "\n",
                "normal_range = max(arr_normal) - min(arr_normal)\n",
                "normal_variance = stats.variance(arr_normal)\n",
                "normal_std = stats.stdev(arr_normal)\n",
                "\n",
                "print(F\"Rango distribución normal: {normal_range}\")\n",
                "print(F\"Varianza distribución normal: {normal_variance}\")\n",
                "print(F\"Desviación estándar distribución normal: {normal_std}\")\n",
                "\n",
                "print(f\"-------------------------\")\n",
                "\n",
                "chi_range = max(arr_chi2) - min(arr_chi2)\n",
                "chi_variance = stats.variance(arr_chi2)\n",
                "chi_std = stats.stdev(arr_chi2)\n",
                "\n",
                "print(F\"Rango distribución chi_cuadrado: {chi_range}\")\n",
                "print(F\"Varianza distribución chi_cuadrado: {chi_variance}\")\n",
                "print(F\"Desviación estándar distribución chi_cuadrado: {chi_std}\")\n"
            ]
        },
        {
            "cell_type": "code",
            "execution_count": 28,
            "id": "ba25e397",
            "metadata": {},
            "outputs": [
                {
                    "name": "stdout",
                    "output_type": "stream",
                    "text": [
                        "Asimetría distribución normal = -0.35533231803222404 --> Cercana a 0, Simétrica\n",
                        "Curtosis distribución normal = 0.6748809119500714 --> Cercana a 0, esta curtosis indica una distribución muy similar a la normal\n",
                        "------------------------\n",
                        "Asimetría distribución chi-cuadrado = 1.640468808834449 --> Positiva, sesgada hacia la izquierda\n",
                        "Curtosis distribución chi-cuadrado = 2.4135220160499937 --> Positiva, leptocúrtica\n"
                    ]
                },
                {
                    "data": {
                        "text/plain": [
                            "(array([3., 1., 3., 1., 1., 2., 3., 2., 6., 1., 6., 1., 0., 3., 1., 3., 2.,\n",
                            "        5., 3., 1., 2., 4., 4., 2., 1., 1., 1., 1., 1., 4., 1., 1., 1., 3.,\n",
                            "        1., 2., 1., 1., 1., 0., 3., 1., 1., 2., 1., 1., 0., 0., 0., 0., 0.,\n",
                            "        1., 0., 0., 0., 0., 0., 0., 0., 0., 0., 0., 0., 0., 0., 0., 0., 0.,\n",
                            "        0., 0., 0., 1., 0., 0., 0., 0., 0., 0., 1., 0., 0., 1., 1., 0., 0.,\n",
                            "        0., 0., 0., 1., 1., 0., 0., 0., 1., 0., 0., 0., 0., 0., 2.]),\n",
                            " array([ 0.14778677,  0.2598036 ,  0.37182042,  0.48383724,  0.59585407,\n",
                            "         0.70787089,  0.81988772,  0.93190454,  1.04392136,  1.15593819,\n",
                            "         1.26795501,  1.37997183,  1.49198866,  1.60400548,  1.7160223 ,\n",
                            "         1.82803913,  1.94005595,  2.05207278,  2.1640896 ,  2.27610642,\n",
                            "         2.38812325,  2.50014007,  2.61215689,  2.72417372,  2.83619054,\n",
                            "         2.94820736,  3.06022419,  3.17224101,  3.28425783,  3.39627466,\n",
                            "         3.50829148,  3.62030831,  3.73232513,  3.84434195,  3.95635878,\n",
                            "         4.0683756 ,  4.18039242,  4.29240925,  4.40442607,  4.51644289,\n",
                            "         4.62845972,  4.74047654,  4.85249337,  4.96451019,  5.07652701,\n",
                            "         5.18854384,  5.30056066,  5.41257748,  5.52459431,  5.63661113,\n",
                            "         5.74862795,  5.86064478,  5.9726616 ,  6.08467843,  6.19669525,\n",
                            "         6.30871207,  6.4207289 ,  6.53274572,  6.64476254,  6.75677937,\n",
                            "         6.86879619,  6.98081301,  7.09282984,  7.20484666,  7.31686348,\n",
                            "         7.42888031,  7.54089713,  7.65291396,  7.76493078,  7.8769476 ,\n",
                            "         7.98896443,  8.10098125,  8.21299807,  8.3250149 ,  8.43703172,\n",
                            "         8.54904854,  8.66106537,  8.77308219,  8.88509902,  8.99711584,\n",
                            "         9.10913266,  9.22114949,  9.33316631,  9.44518313,  9.55719996,\n",
                            "         9.66921678,  9.7812336 ,  9.89325043, 10.00526725, 10.11728408,\n",
                            "        10.2293009 , 10.34131772, 10.45333455, 10.56535137, 10.67736819,\n",
                            "        10.78938502, 10.90140184, 11.01341866, 11.12543549, 11.23745231,\n",
                            "        11.34946913]),\n",
                            " <BarContainer object of 100 artists>)"
                        ]
                    },
                    "execution_count": 28,
                    "metadata": {},
                    "output_type": "execute_result"
                },
                {
                    "data": {
                        "image/png": "[encoded data removed]",
                        "text/plain": [
                            "<Figure size 640x480 with 1 Axes>"
                        ]
                    },
                    "metadata": {},
                    "output_type": "display_data"
                }
            ],
            "source": [
                "# Medidas de forma\n",
                "\n",
                "normal_skew = skew(arr_normal)\n",
                "normal_kurt = kurtosis(arr_normal)\n",
                "\n",
                "print(f\"Asimetría distribución normal = {normal_skew} --> Cercana a 0, Simétrica\")\n",
                "print(f\"Curtosis distribución normal = {normal_kurt} --> Cercana a 0, esta curtosis indica una distribución muy similar a la normal\")\n",
                "\n",
                "print(f\"------------------------\")\n",
                "\n",
                "chi_skew = skew(arr_chi2)\n",
                "chi_kurt = kurtosis(arr_chi2)\n",
                "\n",
                "print(f\"Asimetría distribución chi-cuadrado = {chi_skew} --> Positiva, sesgada hacia la izquierda\")\n",
                "print(f\"Curtosis distribución chi-cuadrado = {chi_kurt} --> Positiva, leptocúrtica\")\n",
                "\n",
                "plt.hist(arr_normal, bins = 100)\n",
                "\n",
                "plt.hist(arr_chi2, bins = 100, alpha = 0.7)\n"
            ]
        },
        {
            "cell_type": "markdown",
            "id": "46c70c3d",
            "metadata": {},
            "source": [
                "### Exercise 2\n",
                "\n",
                "Write a Python program to calculate the standard deviation of the following data:\n",
                "\n",
                "```py\n",
                "data = [4, 2, 5, 8, 6]\n",
                "```"
            ]
        },
        {
            "cell_type": "code",
            "execution_count": 37,
            "id": "d590308e",
            "metadata": {},
            "outputs": [
                {
                    "name": "stdout",
                    "output_type": "stream",
                    "text": [
                        "Desviación estándar = 2.24\n"
                    ]
                }
            ],
            "source": [
                "\n",
                "data = [4,2,5,8,6]\n",
                "\n",
                "def calculate_std(list):\n",
                "\n",
                "    mean = stats.mean(list)\n",
                "    sumatorio = 0\n",
                "    n = len(list)\n",
                "\n",
                "    for i in list: \n",
                "        numerador = (i - mean)**2\n",
                "\n",
                "        sumatorio += numerador\n",
                "\n",
                "    \n",
                "    std = mt.sqrt((sumatorio/(n-1)))\n",
                "\n",
                "    return std\n",
                "\n",
                "    \n",
                "\n",
                "\n",
                "print(f\"Desviación estándar = {round(calculate_std(data),2)}\")\n",
                "\n",
                "\n"
            ]
        }
    ],
    "metadata": {
        "interpreter": {
            "hash": "9248718ffe6ce6938b217e69dbcc175ea21f4c6b28a317e96c05334edae734bb"
        },
        "kernelspec": {
            "display_name": "Python 3.9.12 ('ML-BOOTCAMP')",
            "language": "python",
            "name": "python3"
        },
        "language_info": {
            "codemirror_mode": {
                "name": "ipython",
                "version": 3
            },
            "file_extension": ".py",
            "mimetype": "text/x-python",
            "name": "python",
            "nbconvert_exporter": "python",
            "pygments_lexer": "ipython3",
            "version": "3.11.4"
        }
    },
    "nbformat": 4,
    "nbformat_minor": 5
}
